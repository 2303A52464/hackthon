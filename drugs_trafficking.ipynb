{
  "nbformat": 4,
  "nbformat_minor": 0,
  "metadata": {
    "colab": {
      "provenance": [],
      "include_colab_link": true
    },
    "kernelspec": {
      "name": "python3",
      "display_name": "Python 3"
    },
    "language_info": {
      "name": "python"
    }
  },
  "cells": [
    {
      "cell_type": "markdown",
      "metadata": {
        "id": "view-in-github",
        "colab_type": "text"
      },
      "source": [
        "<a href=\"https://colab.research.google.com/github/2303A52464/hackthon/blob/main/drugs_trafficking.ipynb\" target=\"_parent\"><img src=\"https://colab.research.google.com/assets/colab-badge.svg\" alt=\"Open In Colab\"/></a>"
      ]
    },
    {
      "cell_type": "code",
      "source": [
        "!pip install nltk pandas"
      ],
      "metadata": {
        "id": "viU1GVJ2uvKD"
      },
      "execution_count": null,
      "outputs": []
    },
    {
      "cell_type": "code",
      "source": [
        "import re\n",
        "from nltk.tokenize import word_tokenize\n",
        "from nltk.corpus import stopwords\n",
        "import pandas as pd\n",
        "import nltk\n",
        "\n",
        "# Download NLTK datasets\n",
        "nltk.download('punkt')\n",
        "nltk.download('stopwords')"
      ],
      "metadata": {
        "id": "ZNDRAG_0uyr5"
      },
      "execution_count": null,
      "outputs": []
    },
    {
      "cell_type": "code",
      "source": [
        "# Define keywords related to drug trafficking\n",
        "keywords = [\"MDMA\", \"LSD\", \"Mephedrone\", \"ecstasy\", \"drug\", \"narcotics\", \"pills\"]"
      ],
      "metadata": {
        "id": "BLevvOEBu9Ah"
      },
      "execution_count": null,
      "outputs": []
    },
    {
      "cell_type": "code",
      "source": [
        "# Function for preprocessing messages\n",
        "def preprocess_message(message):\n",
        "    stop_words = set(stopwords.words('english'))\n",
        "    # Remove punctuation and convert to lowercase\n",
        "    message = re.sub(r'[^\\w\\s]', '', message)\n",
        "    message = message.lower()\n",
        "    # Tokenize and remove stopwords\n",
        "    tokens = word_tokenize(message)\n",
        "    filtered_tokens = [word for word in tokens if word not in stop_words]\n",
        "    return filtered_tokens"
      ],
      "metadata": {
        "id": "YERrmsb5vET3"
      },
      "execution_count": null,
      "outputs": []
    },
    {
      "cell_type": "code",
      "source": [
        "# Function to detect suspicious messages\n",
        "def detect_suspicious_messages(df, keywords):\n",
        "    suspicious = []\n",
        "    for index, row in df.iterrows():\n",
        "        tokens = preprocess_message(row['Message'])\n",
        "        # Check if any keyword is present\n",
        "        if any(keyword.lower() in tokens for keyword in keywords):\n",
        "            suspicious.append(row['Message'])\n",
        "    return suspicious"
      ],
      "metadata": {
        "id": "Z1ZbqBGfvKt1"
      },
      "execution_count": null,
      "outputs": []
    },
    {
      "cell_type": "code",
      "source": [
        "# Collect user input for messages\n",
        "user_messages = []\n",
        "print(\"Enter messages (type 'STOP' to end):\")\n",
        "\n",
        "while True:\n",
        "    message = input()\n",
        "    if message.upper() == \"STOP\":\n",
        "        break\n",
        "    user_messages.append(message)"
      ],
      "metadata": {
        "id": "O2K3G6mEvRR1"
      },
      "execution_count": null,
      "outputs": []
    },
    {
      "cell_type": "code",
      "source": [
        "# Create a DataFrame from user input\n",
        "df_user = pd.DataFrame({\"Message\": user_messages})\n",
        "print(\"\\nMessages Received:\")\n",
        "print(df_user)\n",
        "\n",
        "# Detect suspicious messages\n",
        "suspicious_messages_user = detect_suspicious_messages(df_user, keywords)\n",
        "print(\"\\nSuspicious Messages Detected:\")\n",
        "print(suspicious_messages_user)"
      ],
      "metadata": {
        "id": "gzbTWBS3vVng"
      },
      "execution_count": null,
      "outputs": []
    }
  ]
}